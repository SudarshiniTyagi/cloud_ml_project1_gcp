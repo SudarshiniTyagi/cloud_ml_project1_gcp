{
 "cells": [
  {
   "cell_type": "markdown",
   "metadata": {},
   "source": [
    "# Alexnet"
   ]
  },
  {
   "cell_type": "code",
   "execution_count": 2,
   "metadata": {
    "collapsed": true
   },
   "outputs": [
    {
     "name": "stdout",
     "output_type": "stream",
     "text": [
      "=> creating model 'alexnet'\n",
      "Epoch: [0][   0/5000]\tTime  0.524 ( 0.524)\tData  0.252 ( 0.252)\tLoss 6.9048e+00 (6.9048e+00)\tAcc@1   0.00 (  0.00)\tAcc@5   0.00 (  0.00)\n",
      "Epoch: [0][ 500/5000]\tTime  0.021 ( 0.033)\tData  0.000 ( 0.011)\tLoss 6.9108e+00 (6.9118e+00)\tAcc@1   0.00 (  0.00)\tAcc@5   0.00 (  0.40)\n",
      "Epoch: [0][1000/5000]\tTime  0.026 ( 0.031)\tData  0.000 ( 0.010)\tLoss 6.9462e+00 (6.9125e+00)\tAcc@1   0.00 (  0.00)\tAcc@5   0.00 (  0.30)\n",
      "Epoch: [0][1500/5000]\tTime  0.030 ( 0.031)\tData  0.000 ( 0.009)\tLoss 6.8953e+00 (6.9137e+00)\tAcc@1   0.00 (  0.02)\tAcc@5   0.00 (  0.33)\n",
      "Epoch: [0][2000/5000]\tTime  0.023 ( 0.031)\tData  0.001 ( 0.009)\tLoss 6.9294e+00 (6.9148e+00)\tAcc@1   0.00 (  0.01)\tAcc@5   0.00 (  0.30)\n",
      "Epoch: [0][2500/5000]\tTime  0.027 ( 0.031)\tData  0.000 ( 0.009)\tLoss 6.9310e+00 (6.9160e+00)\tAcc@1   0.00 (  0.01)\tAcc@5   0.00 (  0.27)\n",
      "Epoch: [0][3000/5000]\tTime  0.028 ( 0.031)\tData  0.021 ( 0.009)\tLoss 6.9093e+00 (6.9167e+00)\tAcc@1   0.00 (  0.01)\tAcc@5   0.00 (  0.26)\n",
      "Epoch: [0][3500/5000]\tTime  0.035 ( 0.031)\tData  0.000 ( 0.009)\tLoss 6.9104e+00 (6.9175e+00)\tAcc@1   0.00 (  0.01)\tAcc@5   0.00 (  0.25)\n",
      "Epoch: [0][4000/5000]\tTime  0.031 ( 0.031)\tData  0.000 ( 0.009)\tLoss 6.9215e+00 (6.9182e+00)\tAcc@1   0.00 (  0.01)\tAcc@5   0.00 (  0.22)\n",
      "Epoch: [0][4500/5000]\tTime  0.021 ( 0.031)\tData  0.000 ( 0.009)\tLoss 6.9322e+00 (6.9190e+00)\tAcc@1   0.00 (  0.01)\tAcc@5   0.00 (  0.19)\n",
      "max gpu memory used = 934999552\n",
      "Total training time: 0:02:33.786760\n",
      "Test: [   0/2500]\tTime  0.328 ( 0.328)\tLoss 6.9102e+00 (6.9102e+00)\tAcc@1   0.00 (  0.00)\tAcc@5   0.00 (  0.00)\n",
      "Test: [ 500/2500]\tTime  0.024 ( 0.031)\tLoss 6.8960e+00 (6.9077e+00)\tAcc@1   0.00 (  0.00)\tAcc@5   0.00 (  1.00)\n",
      "Test: [1000/2500]\tTime  0.006 ( 0.031)\tLoss 6.8993e+00 (6.9062e+00)\tAcc@1   0.00 (  0.00)\tAcc@5   0.00 (  0.75)\n",
      "Test: [1500/2500]\tTime  0.013 ( 0.031)\tLoss 6.9119e+00 (6.9070e+00)\tAcc@1   0.00 (  0.17)\tAcc@5   0.00 (  0.83)\n",
      "Test: [2000/2500]\tTime  0.006 ( 0.031)\tLoss 6.9088e+00 (6.9076e+00)\tAcc@1   0.00 (  0.12)\tAcc@5   0.00 (  0.62)\n",
      " * Acc@1 0.100 Acc@5 0.500\n",
      "Total validate time: 0:01:16.985909\n"
     ]
    }
   ],
   "source": [
    "!python examples_master/examples_master/imagenet/main.py -a alexnet -b 4 --lr 0.01 --epochs 1 imagenet_subset/"
   ]
  },
  {
   "cell_type": "code",
   "execution_count": 5,
   "metadata": {
    "collapsed": true
   },
   "outputs": [
    {
     "name": "stdout",
     "output_type": "stream",
     "text": [
      "=> creating model 'alexnet'\n",
      "Epoch: [0][   0/2500]\tTime  0.631 ( 0.631)\tData  0.295 ( 0.295)\tLoss 6.9097e+00 (6.9097e+00)\tAcc@1   0.00 (  0.00)\tAcc@5  12.50 ( 12.50)\n",
      "Epoch: [0][ 500/2500]\tTime  0.048 ( 0.054)\tData  0.001 ( 0.031)\tLoss 6.9090e+00 (6.9097e+00)\tAcc@1   0.00 (  0.05)\tAcc@5   0.00 (  0.32)\n",
      "Epoch: [0][1000/2500]\tTime  0.039 ( 0.053)\tData  0.031 ( 0.030)\tLoss 6.8998e+00 (6.9117e+00)\tAcc@1   0.00 (  0.05)\tAcc@5   0.00 (  0.35)\n",
      "Epoch: [0][1500/2500]\tTime  0.067 ( 0.053)\tData  0.057 ( 0.030)\tLoss 6.9183e+00 (6.9126e+00)\tAcc@1   0.00 (  0.05)\tAcc@5   0.00 (  0.32)\n",
      "Epoch: [0][2000/2500]\tTime  0.028 ( 0.052)\tData  0.000 ( 0.030)\tLoss 6.9007e+00 (6.9137e+00)\tAcc@1   0.00 (  0.04)\tAcc@5   0.00 (  0.27)\n",
      "max gpu memory used = 962438144\n",
      "Total training time: 0:02:10.950994\n",
      "Test: [   0/1250]\tTime  0.452 ( 0.452)\tLoss 6.8975e+00 (6.8975e+00)\tAcc@1   0.00 (  0.00)\tAcc@5   0.00 (  0.00)\n",
      "Test: [ 500/1250]\tTime  0.017 ( 0.056)\tLoss 6.9049e+00 (6.9073e+00)\tAcc@1   0.00 (  0.00)\tAcc@5   0.00 (  0.17)\n",
      "Test: [1000/1250]\tTime  0.112 ( 0.056)\tLoss 6.9135e+00 (6.9079e+00)\tAcc@1   0.00 (  0.12)\tAcc@5   0.00 (  0.51)\n",
      " * Acc@1 0.100 Acc@5 0.510\n",
      "Total validate time: 0:01:10.076319\n"
     ]
    }
   ],
   "source": [
    "!python examples_master/examples_master/imagenet/main.py -a alexnet -b 8 --lr 0.01 --epochs 1 imagenet_subset/"
   ]
  },
  {
   "cell_type": "code",
   "execution_count": 1,
   "metadata": {},
   "outputs": [
    {
     "name": "stdout",
     "output_type": "stream",
     "text": [
      "=> creating model 'alexnet'\n",
      "Epoch: [0][   0/1250]\tTime  0.976 ( 0.976)\tData  0.582 ( 0.582)\tLoss 6.9092e+00 (6.9092e+00)\tAcc@1   0.00 (  0.00)\tAcc@5   0.00 (  0.00)\n",
      "Epoch: [0][ 500/1250]\tTime  0.038 ( 0.099)\tData  0.005 ( 0.075)\tLoss 6.9057e+00 (6.9099e+00)\tAcc@1   0.00 (  0.09)\tAcc@5   0.00 (  0.39)\n",
      "Epoch: [0][1000/1250]\tTime  0.043 ( 0.097)\tData  0.000 ( 0.074)\tLoss 6.9111e+00 (6.9111e+00)\tAcc@1   0.00 (  0.06)\tAcc@5   0.00 (  0.29)\n",
      "max gpu memory used = 1011752960\n",
      "Total training time: 0:02:00.917879\n",
      "Test: [  0/625]\tTime  0.602 ( 0.602)\tLoss 6.9105e+00 (6.9105e+00)\tAcc@1   0.00 (  0.00)\tAcc@5   6.25 (  6.25)\n",
      "Test: [500/625]\tTime  0.062 ( 0.104)\tLoss 6.9033e+00 (6.9078e+00)\tAcc@1   0.00 (  0.11)\tAcc@5   0.00 (  0.21)\n",
      " * Acc@1 0.110 Acc@5 0.440\n",
      "Total validate time: 0:01:05.654811\n"
     ]
    }
   ],
   "source": [
    "!python examples_master/examples_master/imagenet/main.py -a alexnet -b 16 --lr 0.01 --epochs 1 imagenet_subset/"
   ]
  },
  {
   "cell_type": "code",
   "execution_count": 12,
   "metadata": {
    "collapsed": true
   },
   "outputs": [
    {
     "name": "stdout",
     "output_type": "stream",
     "text": [
      "=> creating model 'alexnet'\n",
      "ERROR: Unexpected bus error encountered in worker. This might be caused by insufficient shared memory (shm).\n",
      "\u0000Traceback (most recent call last):\n",
      "  File \"/opt/conda/envs/python3.6/lib/python3.6/site-packages/torch/utils/data/dataloader.py\", line 761, in _try_get_data\n",
      "    data = self._data_queue.get(timeout=timeout)\n",
      "  File \"/opt/conda/envs/python3.6/lib/python3.6/queue.py\", line 173, in get\n",
      "    self.not_empty.wait(remaining)\n",
      "  File \"/opt/conda/envs/python3.6/lib/python3.6/threading.py\", line 299, in wait\n",
      "    gotit = waiter.acquire(True, timeout)\n",
      "  File \"/opt/conda/envs/python3.6/lib/python3.6/site-packages/torch/utils/data/_utils/signal_handling.py\", line 66, in handler\n",
      "    _error_if_any_worker_fails()\n",
      "RuntimeError: DataLoader worker (pid 449) is killed by signal: Bus error. It is possible that dataloader's workers are out of shared memory. Please try to raise your shared memory limit.\n",
      "\n",
      "During handling of the above exception, another exception occurred:\n",
      "\n",
      "Traceback (most recent call last):\n",
      "  File \"examples_master/examples_master/imagenet/main.py\", line 446, in <module>\n",
      "    main()\n",
      "  File \"examples_master/examples_master/imagenet/main.py\", line 112, in main\n",
      "    main_worker(args.gpu, ngpus_per_node, args)\n",
      "  File \"examples_master/examples_master/imagenet/main.py\", line 245, in main_worker\n",
      "    train(train_loader, model, criterion, optimizer, epoch, args)\n",
      "  File \"examples_master/examples_master/imagenet/main.py\", line 294, in train\n",
      "    for i, (images, target) in enumerate(train_loader):\n",
      "  File \"/opt/conda/envs/python3.6/lib/python3.6/site-packages/torch/utils/data/dataloader.py\", line 345, in __next__\n",
      "    data = self._next_data()\n",
      "  File \"/opt/conda/envs/python3.6/lib/python3.6/site-packages/torch/utils/data/dataloader.py\", line 841, in _next_data\n",
      "    idx, data = self._get_data()\n",
      "  File \"/opt/conda/envs/python3.6/lib/python3.6/site-packages/torch/utils/data/dataloader.py\", line 798, in _get_data\n",
      "    success, data = self._try_get_data()\n",
      "  File \"/opt/conda/envs/python3.6/lib/python3.6/site-packages/torch/utils/data/dataloader.py\", line 774, in _try_get_data\n",
      "    raise RuntimeError('DataLoader worker (pid(s) {}) exited unexpectedly'.format(pids_str))\n",
      "RuntimeError: DataLoader worker (pid(s) 449) exited unexpectedly\n"
     ]
    }
   ],
   "source": [
    "!python examples_master/examples_master/imagenet/main.py -a alexnet -b 64 --lr 0.01 --epochs 1 imagenet_subset/"
   ]
  },
  {
   "cell_type": "code",
   "execution_count": 3,
   "metadata": {},
   "outputs": [
    {
     "name": "stdout",
     "output_type": "stream",
     "text": [
      "=> creating model 'alexnet'\n",
      "Epoch: [0][  0/625]\tTime  1.431 ( 1.431)\tData  0.894 ( 0.894)\tLoss 6.9067e+00 (6.9067e+00)\tAcc@1   0.00 (  0.00)\tAcc@5   0.00 (  0.00)\n",
      "Epoch: [0][500/625]\tTime  0.034 ( 0.194)\tData  0.000 ( 0.161)\tLoss 6.9116e+00 (6.9098e+00)\tAcc@1   0.00 (  0.04)\tAcc@5   0.00 (  0.32)\n",
      "max gpu memory used = 1116645888\n",
      "Total training time: 0:02:00.393601\n",
      "Test: [  0/313]\tTime  0.896 ( 0.896)\tLoss 6.9124e+00 (6.9124e+00)\tAcc@1   0.00 (  0.00)\tAcc@5   0.00 (  0.00)\n",
      " * Acc@1 0.120 Acc@5 0.530\n",
      "Total validate time: 0:01:06.972206\n"
     ]
    }
   ],
   "source": [
    "!python examples_master/examples_master/imagenet/main.py -a alexnet -b 32 --lr 0.01 --epochs 1 imagenet_subset/"
   ]
  },
  {
   "cell_type": "markdown",
   "metadata": {},
   "source": [
    "# Resnet 18"
   ]
  },
  {
   "cell_type": "code",
   "execution_count": 3,
   "metadata": {},
   "outputs": [
    {
     "name": "stdout",
     "output_type": "stream",
     "text": [
      "=> creating model 'resnet18'\n",
      "Epoch: [0][   0/5000]\tTime  0.707 ( 0.707)\tData  0.330 ( 0.330)\tLoss 7.2003e+00 (7.2003e+00)\tAcc@1   0.00 (  0.00)\tAcc@5   0.00 (  0.00)\n",
      "Epoch: [0][ 500/5000]\tTime  0.031 ( 0.035)\tData  0.000 ( 0.002)\tLoss 7.0756e+00 (7.1742e+00)\tAcc@1   0.00 (  0.10)\tAcc@5   0.00 (  0.35)\n",
      "Epoch: [0][1000/5000]\tTime  0.026 ( 0.034)\tData  0.002 ( 0.002)\tLoss 6.9210e+00 (7.0667e+00)\tAcc@1   0.00 (  0.05)\tAcc@5   0.00 (  0.35)\n",
      "Epoch: [0][1500/5000]\tTime  0.037 ( 0.034)\tData  0.002 ( 0.002)\tLoss 7.0065e+00 (7.0215e+00)\tAcc@1   0.00 (  0.03)\tAcc@5   0.00 (  0.28)\n",
      "Epoch: [0][2000/5000]\tTime  0.026 ( 0.034)\tData  0.000 ( 0.002)\tLoss 6.9382e+00 (6.9984e+00)\tAcc@1   0.00 (  0.04)\tAcc@5   0.00 (  0.29)\n",
      "Epoch: [0][2500/5000]\tTime  0.046 ( 0.034)\tData  0.000 ( 0.002)\tLoss 6.9285e+00 (6.9830e+00)\tAcc@1   0.00 (  0.05)\tAcc@5   0.00 (  0.30)\n",
      "Epoch: [0][3000/5000]\tTime  0.043 ( 0.034)\tData  0.000 ( 0.002)\tLoss 6.8895e+00 (6.9724e+00)\tAcc@1   0.00 (  0.04)\tAcc@5   0.00 (  0.29)\n",
      "Epoch: [0][3500/5000]\tTime  0.017 ( 0.034)\tData  0.000 ( 0.002)\tLoss 6.8571e+00 (6.9651e+00)\tAcc@1   0.00 (  0.04)\tAcc@5   0.00 (  0.28)\n",
      "Epoch: [0][4000/5000]\tTime  0.034 ( 0.034)\tData  0.000 ( 0.002)\tLoss 6.8898e+00 (6.9603e+00)\tAcc@1   0.00 (  0.03)\tAcc@5   0.00 (  0.26)\n",
      "Epoch: [0][4500/5000]\tTime  0.020 ( 0.033)\tData  0.000 ( 0.002)\tLoss 6.9433e+00 (6.9565e+00)\tAcc@1   0.00 (  0.05)\tAcc@5   0.00 (  0.27)\n",
      "max gpu memory used = 1298664960\n",
      "Total training time: 0:02:47.396275\n",
      "Test: [   0/2500]\tTime  0.269 ( 0.269)\tLoss 7.0164e+00 (7.0164e+00)\tAcc@1   0.00 (  0.00)\tAcc@5   0.00 (  0.00)\n",
      "Test: [ 500/2500]\tTime  0.026 ( 0.031)\tLoss 6.8713e+00 (6.9876e+00)\tAcc@1   0.00 (  0.00)\tAcc@5   0.00 (  1.25)\n",
      "Test: [1000/2500]\tTime  0.022 ( 0.031)\tLoss 6.9234e+00 (6.9637e+00)\tAcc@1   0.00 (  0.20)\tAcc@5   0.00 (  1.10)\n",
      "Test: [1500/2500]\tTime  0.022 ( 0.031)\tLoss 6.4245e+00 (6.9759e+00)\tAcc@1   0.00 (  0.20)\tAcc@5   0.00 (  0.97)\n",
      "Test: [2000/2500]\tTime  0.020 ( 0.030)\tLoss 6.9254e+00 (6.9836e+00)\tAcc@1   0.00 (  0.15)\tAcc@5   0.00 (  0.80)\n",
      " * Acc@1 0.120 Acc@5 0.640\n",
      "Total validate time: 0:01:16.920428\n"
     ]
    }
   ],
   "source": [
    "!python examples_master/examples_master/imagenet/main.py -a resnet18 -b 4 --lr 0.01 --epochs 1 imagenet_subset/"
   ]
  },
  {
   "cell_type": "code",
   "execution_count": 4,
   "metadata": {},
   "outputs": [
    {
     "name": "stdout",
     "output_type": "stream",
     "text": [
      "=> creating model 'resnet18'\n",
      "Epoch: [0][   0/2500]\tTime  0.801 ( 0.801)\tData  0.303 ( 0.303)\tLoss 6.9554e+00 (6.9554e+00)\tAcc@1   0.00 (  0.00)\tAcc@5   0.00 (  0.00)\n",
      "Epoch: [0][ 500/2500]\tTime  0.043 ( 0.058)\tData  0.003 ( 0.017)\tLoss 6.9469e+00 (7.1129e+00)\tAcc@1   0.00 (  0.02)\tAcc@5   0.00 (  0.42)\n",
      "Epoch: [0][1000/2500]\tTime  0.084 ( 0.058)\tData  0.027 ( 0.016)\tLoss 6.7568e+00 (7.0267e+00)\tAcc@1   0.00 (  0.04)\tAcc@5  12.50 (  0.45)\n",
      "Epoch: [0][1500/2500]\tTime  0.044 ( 0.057)\tData  0.000 ( 0.016)\tLoss 6.8211e+00 (6.9884e+00)\tAcc@1   0.00 (  0.03)\tAcc@5   0.00 (  0.45)\n",
      "Epoch: [0][2000/2500]\tTime  0.061 ( 0.057)\tData  0.001 ( 0.016)\tLoss 6.8637e+00 (6.9682e+00)\tAcc@1   0.00 (  0.04)\tAcc@5   0.00 (  0.46)\n",
      "max gpu memory used = 1404562432\n",
      "Total training time: 0:02:21.751489\n",
      "Test: [   0/1250]\tTime  0.468 ( 0.468)\tLoss 8.5179e+00 (8.5179e+00)\tAcc@1   0.00 (  0.00)\tAcc@5   0.00 (  0.00)\n",
      "Test: [ 500/1250]\tTime  0.020 ( 0.058)\tLoss 6.8998e+00 (8.1231e+00)\tAcc@1   0.00 (  0.12)\tAcc@5   0.00 (  0.92)\n",
      "Test: [1000/1250]\tTime  0.073 ( 0.058)\tLoss 6.8194e+00 (8.0724e+00)\tAcc@1   0.00 (  0.06)\tAcc@5   0.00 (  0.55)\n",
      " * Acc@1 0.180 Acc@5 0.980\n",
      "Total validate time: 0:01:12.370507\n"
     ]
    }
   ],
   "source": [
    "!python examples_master/examples_master/imagenet/main.py -a resnet18 -b 8 --lr 0.01 --epochs 1 imagenet_subset/"
   ]
  },
  {
   "cell_type": "code",
   "execution_count": 7,
   "metadata": {},
   "outputs": [
    {
     "name": "stdout",
     "output_type": "stream",
     "text": [
      "=> creating model 'resnet18'\n",
      "ERROR: Unexpected bus error encountered in worker. This might be caused by insufficient shared memory (shm).\n",
      "\u0000Traceback (most recent call last):\n",
      "  File \"/opt/conda/envs/python3.6/lib/python3.6/site-packages/torch/utils/data/dataloader.py\", line 761, in _try_get_data\n",
      "    data = self._data_queue.get(timeout=timeout)\n",
      "  File \"/opt/conda/envs/python3.6/lib/python3.6/queue.py\", line 173, in get\n",
      "    self.not_empty.wait(remaining)\n",
      "  File \"/opt/conda/envs/python3.6/lib/python3.6/threading.py\", line 299, in wait\n",
      "    gotit = waiter.acquire(True, timeout)\n",
      "  File \"/opt/conda/envs/python3.6/lib/python3.6/site-packages/torch/utils/data/_utils/signal_handling.py\", line 66, in handler\n",
      "    _error_if_any_worker_fails()\n",
      "RuntimeError: DataLoader worker (pid 329) is killed by signal: Bus error. It is possible that dataloader's workers are out of shared memory. Please try to raise your shared memory limit.\n",
      "\n",
      "During handling of the above exception, another exception occurred:\n",
      "\n",
      "Traceback (most recent call last):\n",
      "  File \"examples_master/examples_master/imagenet/main.py\", line 446, in <module>\n",
      "    main()\n",
      "  File \"examples_master/examples_master/imagenet/main.py\", line 112, in main\n",
      "    main_worker(args.gpu, ngpus_per_node, args)\n",
      "  File \"examples_master/examples_master/imagenet/main.py\", line 245, in main_worker\n",
      "    train(train_loader, model, criterion, optimizer, epoch, args)\n",
      "  File \"examples_master/examples_master/imagenet/main.py\", line 294, in train\n",
      "    for i, (images, target) in enumerate(train_loader):\n",
      "  File \"/opt/conda/envs/python3.6/lib/python3.6/site-packages/torch/utils/data/dataloader.py\", line 345, in __next__\n",
      "    data = self._next_data()\n",
      "  File \"/opt/conda/envs/python3.6/lib/python3.6/site-packages/torch/utils/data/dataloader.py\", line 841, in _next_data\n",
      "    idx, data = self._get_data()\n",
      "  File \"/opt/conda/envs/python3.6/lib/python3.6/site-packages/torch/utils/data/dataloader.py\", line 798, in _get_data\n",
      "    success, data = self._try_get_data()\n",
      "  File \"/opt/conda/envs/python3.6/lib/python3.6/site-packages/torch/utils/data/dataloader.py\", line 774, in _try_get_data\n",
      "    raise RuntimeError('DataLoader worker (pid(s) {}) exited unexpectedly'.format(pids_str))\n",
      "RuntimeError: DataLoader worker (pid(s) 329) exited unexpectedly\n"
     ]
    }
   ],
   "source": [
    "!python examples_master/examples_master/imagenet/main.py -a resnet18 -b 128 --lr 0.01 --epochs 1 imagenet_subset/"
   ]
  },
  {
   "cell_type": "code",
   "execution_count": 8,
   "metadata": {},
   "outputs": [
    {
     "name": "stdout",
     "output_type": "stream",
     "text": [
      "The history saving thread hit an unexpected error (OperationalError('database or disk is full',)).History will not be written to the database.\n",
      "=> creating model 'resnet18'\n",
      "ERROR: Unexpected bus error encountered in worker. This might be caused by insufficient shared memory (shm).\n",
      "\u0000ERROR: Unexpected bus error encountered in worker. This might be caused by insufficient shared memory (shm).\n",
      "\u0000Traceback (most recent call last):\n",
      "  File \"/opt/conda/envs/python3.6/lib/python3.6/site-packages/torch/utils/data/dataloader.py\", line 761, in _try_get_data\n",
      "    data = self._data_queue.get(timeout=timeout)\n",
      "  File \"/opt/conda/envs/python3.6/lib/python3.6/queue.py\", line 173, in get\n",
      "    self.not_empty.wait(remaining)\n",
      "  File \"/opt/conda/envs/python3.6/lib/python3.6/threading.py\", line 299, in wait\n",
      "    gotit = waiter.acquire(True, timeout)\n",
      "  File \"/opt/conda/envs/python3.6/lib/python3.6/site-packages/torch/utils/data/_utils/signal_handling.py\", line 66, in handler\n",
      "    _error_if_any_worker_fails()\n",
      "RuntimeError: DataLoader worker (pid 346) is killed by signal: Bus error. It is possible that dataloader's workers are out of shared memory. Please try to raise your shared memory limit.\n",
      "\n",
      "During handling of the above exception, another exception occurred:\n",
      "\n",
      "Traceback (most recent call last):\n",
      "  File \"examples_master/examples_master/imagenet/main.py\", line 446, in <module>\n",
      "    main()\n",
      "  File \"examples_master/examples_master/imagenet/main.py\", line 112, in main\n",
      "    main_worker(args.gpu, ngpus_per_node, args)\n",
      "  File \"examples_master/examples_master/imagenet/main.py\", line 245, in main_worker\n",
      "    train(train_loader, model, criterion, optimizer, epoch, args)\n",
      "  File \"examples_master/examples_master/imagenet/main.py\", line 294, in train\n",
      "    for i, (images, target) in enumerate(train_loader):\n",
      "  File \"/opt/conda/envs/python3.6/lib/python3.6/site-packages/torch/utils/data/dataloader.py\", line 345, in __next__\n",
      "    data = self._next_data()\n",
      "  File \"/opt/conda/envs/python3.6/lib/python3.6/site-packages/torch/utils/data/dataloader.py\", line 841, in _next_data\n",
      "    idx, data = self._get_data()\n",
      "  File \"/opt/conda/envs/python3.6/lib/python3.6/site-packages/torch/utils/data/dataloader.py\", line 798, in _get_data\n",
      "    success, data = self._try_get_data()\n",
      "  File \"/opt/conda/envs/python3.6/lib/python3.6/site-packages/torch/utils/data/dataloader.py\", line 774, in _try_get_data\n",
      "    raise RuntimeError('DataLoader worker (pid(s) {}) exited unexpectedly'.format(pids_str))\n",
      "RuntimeError: DataLoader worker (pid(s) 346) exited unexpectedly\n"
     ]
    }
   ],
   "source": [
    "!python examples_master/examples_master/imagenet/main.py -a resnet18 -b 64 --lr 0.01 --epochs 1 imagenet_subset/\n"
   ]
  },
  {
   "cell_type": "code",
   "execution_count": 9,
   "metadata": {},
   "outputs": [
    {
     "name": "stdout",
     "output_type": "stream",
     "text": [
      "=> creating model 'resnet18'\n",
      "ERROR: Unexpected bus error encountered in worker. This might be caused by insufficient shared memory (shm).\n",
      "\u0000Traceback (most recent call last):\n",
      "  File \"/opt/conda/envs/python3.6/lib/python3.6/site-packages/torch/utils/data/dataloader.py\", line 761, in _try_get_data\n",
      "    data = self._data_queue.get(timeout=timeout)\n",
      "  File \"/opt/conda/envs/python3.6/lib/python3.6/queue.py\", line 173, in get\n",
      "    self.not_empty.wait(remaining)\n",
      "  File \"/opt/conda/envs/python3.6/lib/python3.6/threading.py\", line 299, in wait\n",
      "    gotit = waiter.acquire(True, timeout)\n",
      "  File \"/opt/conda/envs/python3.6/lib/python3.6/site-packages/torch/utils/data/_utils/signal_handling.py\", line 66, in handler\n",
      "    _error_if_any_worker_fails()\n",
      "RuntimeError: DataLoader worker (pid 361) is killed by signal: Bus error. It is possible that dataloader's workers are out of shared memory. Please try to raise your shared memory limit.\n",
      "\n",
      "During handling of the above exception, another exception occurred:\n",
      "\n",
      "Traceback (most recent call last):\n",
      "  File \"examples_master/examples_master/imagenet/main.py\", line 446, in <module>\n",
      "    main()\n",
      "  File \"examples_master/examples_master/imagenet/main.py\", line 112, in main\n",
      "    main_worker(args.gpu, ngpus_per_node, args)\n",
      "  File \"examples_master/examples_master/imagenet/main.py\", line 245, in main_worker\n",
      "    train(train_loader, model, criterion, optimizer, epoch, args)\n",
      "  File \"examples_master/examples_master/imagenet/main.py\", line 294, in train\n",
      "    for i, (images, target) in enumerate(train_loader):\n",
      "  File \"/opt/conda/envs/python3.6/lib/python3.6/site-packages/torch/utils/data/dataloader.py\", line 345, in __next__\n",
      "    data = self._next_data()\n",
      "  File \"/opt/conda/envs/python3.6/lib/python3.6/site-packages/torch/utils/data/dataloader.py\", line 841, in _next_data\n",
      "    idx, data = self._get_data()\n",
      "  File \"/opt/conda/envs/python3.6/lib/python3.6/site-packages/torch/utils/data/dataloader.py\", line 798, in _get_data\n",
      "    success, data = self._try_get_data()\n",
      "  File \"/opt/conda/envs/python3.6/lib/python3.6/site-packages/torch/utils/data/dataloader.py\", line 774, in _try_get_data\n",
      "    raise RuntimeError('DataLoader worker (pid(s) {}) exited unexpectedly'.format(pids_str))\n",
      "RuntimeError: DataLoader worker (pid(s) 361) exited unexpectedly\n"
     ]
    }
   ],
   "source": [
    "!python examples_master/examples_master/imagenet/main.py -a resnet18 -b 64 --lr 0.01 --epochs 1 imagenet_subset/\n"
   ]
  },
  {
   "cell_type": "code",
   "execution_count": 10,
   "metadata": {},
   "outputs": [
    {
     "name": "stdout",
     "output_type": "stream",
     "text": [
      "=> creating model 'resnet18'\n",
      "Epoch: [0][  0/625]\tTime  1.859 ( 1.859)\tData  1.029 ( 1.029)\tLoss 6.9965e+00 (6.9965e+00)\tAcc@1   0.00 (  0.00)\tAcc@5   0.00 (  0.00)\n",
      "Epoch: [0][500/625]\tTime  0.615 ( 0.205)\tData  0.552 ( 0.130)\tLoss 6.8412e+00 (6.9878e+00)\tAcc@1   0.00 (  0.19)\tAcc@5   0.00 (  0.84)\n",
      "max gpu memory used = 2047484416\n",
      "Total training time: 0:02:07.300422\n",
      "Test: [  0/313]\tTime  1.018 ( 1.018)\tLoss 5.9092e+00 (5.9092e+00)\tAcc@1   0.00 (  0.00)\tAcc@5  15.62 ( 15.62)\n",
      " * Acc@1 0.490 Acc@5 1.850\n",
      "Total validate time: 0:01:09.172658\n"
     ]
    }
   ],
   "source": [
    "!python examples_master/examples_master/imagenet/main.py -a resnet18 -b 32 --lr 0.01 --epochs 1 imagenet_subset/\n"
   ]
  },
  {
   "cell_type": "code",
   "execution_count": 11,
   "metadata": {},
   "outputs": [
    {
     "name": "stdout",
     "output_type": "stream",
     "text": [
      "=> creating model 'resnet18'\n",
      "ERROR: Unexpected bus error encountered in worker. This might be caused by insufficient shared memory (shm).\n",
      "\u0000ERROR: Unexpected bus error encountered in worker. This might be caused by insufficient shared memory (shm).\n",
      "\u0000ERROR: Unexpected bus error encountered in worker. This might be caused by insufficient shared memory (shm).\n",
      "\u0000Epoch: [0][  0/500]\tTime  2.096 ( 2.096)\tData  1.163 ( 1.163)\tLoss 6.9782e+00 (6.9782e+00)\tAcc@1   0.00 (  0.00)\tAcc@5   0.00 (  0.00)\n",
      "Traceback (most recent call last):\n",
      "  File \"/opt/conda/envs/python3.6/lib/python3.6/site-packages/torch/utils/data/dataloader.py\", line 761, in _try_get_data\n",
      "    data = self._data_queue.get(timeout=timeout)\n",
      "  File \"/opt/conda/envs/python3.6/lib/python3.6/queue.py\", line 173, in get\n",
      "    self.not_empty.wait(remaining)\n",
      "  File \"/opt/conda/envs/python3.6/lib/python3.6/threading.py\", line 299, in wait\n",
      "    gotit = waiter.acquire(True, timeout)\n",
      "  File \"/opt/conda/envs/python3.6/lib/python3.6/site-packages/torch/utils/data/_utils/signal_handling.py\", line 66, in handler\n",
      "    _error_if_any_worker_fails()\n",
      "RuntimeError: DataLoader worker (pid 431) is killed by signal: Bus error. It is possible that dataloader's workers are out of shared memory. Please try to raise your shared memory limit.\n",
      "\n",
      "During handling of the above exception, another exception occurred:\n",
      "\n",
      "Traceback (most recent call last):\n",
      "  File \"examples_master/examples_master/imagenet/main.py\", line 446, in <module>\n",
      "    main()\n",
      "  File \"examples_master/examples_master/imagenet/main.py\", line 112, in main\n",
      "    main_worker(args.gpu, ngpus_per_node, args)\n",
      "  File \"examples_master/examples_master/imagenet/main.py\", line 245, in main_worker\n",
      "    train(train_loader, model, criterion, optimizer, epoch, args)\n",
      "  File \"examples_master/examples_master/imagenet/main.py\", line 294, in train\n",
      "    for i, (images, target) in enumerate(train_loader):\n",
      "  File \"/opt/conda/envs/python3.6/lib/python3.6/site-packages/torch/utils/data/dataloader.py\", line 345, in __next__\n",
      "    data = self._next_data()\n",
      "  File \"/opt/conda/envs/python3.6/lib/python3.6/site-packages/torch/utils/data/dataloader.py\", line 841, in _next_data\n",
      "    idx, data = self._get_data()\n",
      "  File \"/opt/conda/envs/python3.6/lib/python3.6/site-packages/torch/utils/data/dataloader.py\", line 798, in _get_data\n",
      "    success, data = self._try_get_data()\n",
      "  File \"/opt/conda/envs/python3.6/lib/python3.6/site-packages/torch/utils/data/dataloader.py\", line 774, in _try_get_data\n",
      "    raise RuntimeError('DataLoader worker (pid(s) {}) exited unexpectedly'.format(pids_str))\n",
      "RuntimeError: DataLoader worker (pid(s) 431) exited unexpectedly\n"
     ]
    }
   ],
   "source": [
    "!python examples_master/examples_master/imagenet/main.py -a resnet18 -b 40 --lr 0.01 --epochs 1 imagenet_subset/\n",
    "\n"
   ]
  },
  {
   "cell_type": "code",
   "execution_count": 2,
   "metadata": {},
   "outputs": [
    {
     "name": "stdout",
     "output_type": "stream",
     "text": [
      "=> creating model 'resnet18'\n",
      "Epoch: [0][   0/1250]\tTime  1.117 ( 1.117)\tData  0.532 ( 0.532)\tLoss 7.0167e+00 (7.0167e+00)\tAcc@1   0.00 (  0.00)\tAcc@5   0.00 (  0.00)\n",
      "Epoch: [0][ 500/1250]\tTime  0.230 ( 0.098)\tData  0.200 ( 0.051)\tLoss 6.9841e+00 (7.0419e+00)\tAcc@1   0.00 (  0.15)\tAcc@5   0.00 (  0.45)\n",
      "Epoch: [0][1000/1250]\tTime  0.133 ( 0.099)\tData  0.104 ( 0.052)\tLoss 6.8488e+00 (6.9858e+00)\tAcc@1   0.00 (  0.12)\tAcc@5   0.00 (  0.49)\n",
      "max gpu memory used = 1623304192\n",
      "Total training time: 0:02:02.722576\n",
      "Test: [  0/625]\tTime  0.557 ( 0.557)\tLoss 6.9737e+00 (6.9737e+00)\tAcc@1   0.00 (  0.00)\tAcc@5   0.00 (  0.00)\n",
      "Test: [500/625]\tTime  0.055 ( 0.104)\tLoss 6.7070e+00 (7.1296e+00)\tAcc@1   0.00 (  0.20)\tAcc@5   0.00 (  1.01)\n",
      " * Acc@1 0.330 Acc@5 1.330\n",
      "Total validate time: 0:01:05.289896\n"
     ]
    }
   ],
   "source": [
    "!python examples_master/examples_master/imagenet/main.py -a resnet18 -b 16 --lr 0.01 --epochs 1 imagenet_subset/\n",
    "\n",
    "\n"
   ]
  },
  {
   "cell_type": "code",
   "execution_count": null,
   "metadata": {},
   "outputs": [],
   "source": []
  }
 ],
 "metadata": {
  "kernelspec": {
   "display_name": "Python [conda env:python3.6]",
   "language": "python",
   "name": "conda-env-python3.6-py"
  },
  "language_info": {
   "codemirror_mode": {
    "name": "ipython",
    "version": 3
   },
   "file_extension": ".py",
   "mimetype": "text/x-python",
   "name": "python",
   "nbconvert_exporter": "python",
   "pygments_lexer": "ipython3",
   "version": "3.6.10"
  }
 },
 "nbformat": 4,
 "nbformat_minor": 4
}
